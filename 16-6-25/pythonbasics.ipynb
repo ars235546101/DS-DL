{
 "cells": [
  {
   "cell_type": "code",
   "execution_count": 1,
   "id": "5b887c7e",
   "metadata": {},
   "outputs": [
    {
     "name": "stdout",
     "output_type": "stream",
     "text": [
      "8\n"
     ]
    }
   ],
   "source": [
    "addition = 3 + 5\n",
    "print (addition)"
   ]
  },
  {
   "cell_type": "code",
   "execution_count": 2,
   "id": "0bbe7027",
   "metadata": {},
   "outputs": [],
   "source": [
    "randomList = [1, 2, 3, 4, 5, 6]"
   ]
  },
  {
   "cell_type": "code",
   "execution_count": 3,
   "id": "09ff77cd",
   "metadata": {},
   "outputs": [
    {
     "name": "stdout",
     "output_type": "stream",
     "text": [
      "The final answer is : 15\n"
     ]
    }
   ],
   "source": [
    "result = 1\n",
    "\n",
    "for _ in randomList:\n",
    "    if _ % 2 != 0:\n",
    "        result *= _\n",
    "\n",
    "print (f'The final answer is : {result}')"
   ]
  },
  {
   "cell_type": "code",
   "execution_count": 4,
   "id": "287381f8",
   "metadata": {},
   "outputs": [
    {
     "data": {
      "text/plain": [
       "[1, 2, 3, 4, 5, 6]"
      ]
     },
     "execution_count": 4,
     "metadata": {},
     "output_type": "execute_result"
    }
   ],
   "source": [
    "randomList"
   ]
  },
  {
   "cell_type": "code",
   "execution_count": 5,
   "id": "5a3b85f0",
   "metadata": {},
   "outputs": [],
   "source": [
    "randomList.append (7)"
   ]
  },
  {
   "cell_type": "code",
   "execution_count": 6,
   "id": "03a1460d",
   "metadata": {},
   "outputs": [
    {
     "data": {
      "text/plain": [
       "[1, 2, 3, 4, 5, 6, 7]"
      ]
     },
     "execution_count": 6,
     "metadata": {},
     "output_type": "execute_result"
    }
   ],
   "source": [
    "randomList\n"
   ]
  }
 ],
 "metadata": {
  "kernelspec": {
   "display_name": "myenv",
   "language": "python",
   "name": "python3"
  },
  "language_info": {
   "codemirror_mode": {
    "name": "ipython",
    "version": 3
   },
   "file_extension": ".py",
   "mimetype": "text/x-python",
   "name": "python",
   "nbconvert_exporter": "python",
   "pygments_lexer": "ipython3",
   "version": "3.13.2"
  }
 },
 "nbformat": 4,
 "nbformat_minor": 5
}
